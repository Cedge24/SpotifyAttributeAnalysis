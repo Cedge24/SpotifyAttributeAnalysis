{
 "cells": [
  {
   "cell_type": "code",
   "execution_count": 3,
   "id": "76a97454",
   "metadata": {},
   "outputs": [],
   "source": [
    "import spotipy\n",
    "from spotipy.oauth2 import SpotifyClientCredentials"
   ]
  },
  {
   "cell_type": "code",
   "execution_count": 6,
   "id": "7f09d4cd",
   "metadata": {},
   "outputs": [],
   "source": [
    "# credentials\n",
    "secret =  '615d49815f9d41be85ec2efd2953b189'\n",
    "cid = '7cf1d2780e1a47388c1fbcb66b9cdced'\n",
    "playlist_URI = '1B5qm34J2CTtKx4WG8ujom'"
   ]
  },
  {
   "cell_type": "code",
   "execution_count": 7,
   "id": "3426224e",
   "metadata": {},
   "outputs": [],
   "source": [
    "#Authentication - without user\n",
    "client_credentials_manager = SpotifyClientCredentials(client_id=cid, client_secret=secret)\n",
    "sp = spotipy.Spotify(client_credentials_manager = client_credentials_manager)"
   ]
  },
  {
   "cell_type": "code",
   "execution_count": 10,
   "id": "e32226c7",
   "metadata": {},
   "outputs": [],
   "source": [
    "# get playlist URI from URL\n",
    "playlist_link = \"https://open.spotify.com/playlist/1B5qm34J2CTtKx4WG8ujom?si=d00c307815a34ee9\"\n",
    "playlist_URI = playlist_link.split(\"/\")[-1].split(\"?\")[0]\n",
    "track_uris = [x[\"track\"][\"uri\"] for x in sp.playlist_tracks(playlist_URI)[\"items\"]]"
   ]
  },
  {
   "cell_type": "code",
   "execution_count": 30,
   "id": "756a8b0f",
   "metadata": {
    "scrolled": true
   },
   "outputs": [
    {
     "name": "stdout",
     "output_type": "stream",
     "text": [
      "In They Feelinz\n",
      "[{'danceability': 0.86, 'energy': 0.44, 'key': 2, 'loudness': -11.896, 'mode': 1, 'speechiness': 0.523, 'acousticness': 0.0609, 'instrumentalness': 4.38e-05, 'liveness': 0.279, 'valence': 0.48, 'tempo': 98.98, 'type': 'audio_features', 'id': '6qSvCwqqIydcrENlWHvRQD', 'uri': 'spotify:track:6qSvCwqqIydcrENlWHvRQD', 'track_href': 'https://api.spotify.com/v1/tracks/6qSvCwqqIydcrENlWHvRQD', 'analysis_url': 'https://api.spotify.com/v1/audio-analysis/6qSvCwqqIydcrENlWHvRQD', 'duration_ms': 206002, 'time_signature': 4}]\n",
      "dopesickbich\n",
      "[{'danceability': 0.914, 'energy': 0.606, 'key': 1, 'loudness': -3.777, 'mode': 1, 'speechiness': 0.293, 'acousticness': 0.00427, 'instrumentalness': 0, 'liveness': 0.287, 'valence': 0.857, 'tempo': 89.973, 'type': 'audio_features', 'id': '2ws5usRc2Ad4GyJLyr8SkA', 'uri': 'spotify:track:2ws5usRc2Ad4GyJLyr8SkA', 'track_href': 'https://api.spotify.com/v1/tracks/2ws5usRc2Ad4GyJLyr8SkA', 'analysis_url': 'https://api.spotify.com/v1/audio-analysis/2ws5usRc2Ad4GyJLyr8SkA', 'duration_ms': 90070, 'time_signature': 4}]\n",
      "Jump\n",
      "[{'danceability': 0.666, 'energy': 0.812, 'key': 1, 'loudness': -2.973, 'mode': 1, 'speechiness': 0.0353, 'acousticness': 0.00886, 'instrumentalness': 1.1e-06, 'liveness': 0.376, 'valence': 0.382, 'tempo': 156.075, 'type': 'audio_features', 'id': '5oFjcloBXWS6vq24VLd92U', 'uri': 'spotify:track:5oFjcloBXWS6vq24VLd92U', 'track_href': 'https://api.spotify.com/v1/tracks/5oFjcloBXWS6vq24VLd92U', 'analysis_url': 'https://api.spotify.com/v1/audio-analysis/5oFjcloBXWS6vq24VLd92U', 'duration_ms': 98514, 'time_signature': 4}]\n",
      "They Don’t Know\n",
      "[{'danceability': 0.865, 'energy': 0.57, 'key': 1, 'loudness': -7.446, 'mode': 1, 'speechiness': 0.178, 'acousticness': 0.165, 'instrumentalness': 0, 'liveness': 0.145, 'valence': 0.447, 'tempo': 115.049, 'type': 'audio_features', 'id': '5PIDCXdOPoVxuElu2GrRNH', 'uri': 'spotify:track:5PIDCXdOPoVxuElu2GrRNH', 'track_href': 'https://api.spotify.com/v1/tracks/5PIDCXdOPoVxuElu2GrRNH', 'analysis_url': 'https://api.spotify.com/v1/audio-analysis/5PIDCXdOPoVxuElu2GrRNH', 'duration_ms': 150261, 'time_signature': 4}]\n",
      "1 Scale (feat. G Herbo)\n",
      "[{'danceability': 0.878, 'energy': 0.635, 'key': 6, 'loudness': -5.811, 'mode': 0, 'speechiness': 0.24, 'acousticness': 0.0289, 'instrumentalness': 0, 'liveness': 0.276, 'valence': 0.331, 'tempo': 135.035, 'type': 'audio_features', 'id': '5gmkw2031VVIboYqPIjSWB', 'uri': 'spotify:track:5gmkw2031VVIboYqPIjSWB', 'track_href': 'https://api.spotify.com/v1/tracks/5gmkw2031VVIboYqPIjSWB', 'analysis_url': 'https://api.spotify.com/v1/audio-analysis/5gmkw2031VVIboYqPIjSWB', 'duration_ms': 176040, 'time_signature': 4}]\n",
      "Shady\n",
      "[{'danceability': 0.668, 'energy': 0.938, 'key': 0, 'loudness': -2.333, 'mode': 1, 'speechiness': 0.231, 'acousticness': 0.605, 'instrumentalness': 0, 'liveness': 0.237, 'valence': 0.494, 'tempo': 130.054, 'type': 'audio_features', 'id': '5y22XdrQ3hfIBmmPR8cDdc', 'uri': 'spotify:track:5y22XdrQ3hfIBmmPR8cDdc', 'track_href': 'https://api.spotify.com/v1/tracks/5y22XdrQ3hfIBmmPR8cDdc', 'analysis_url': 'https://api.spotify.com/v1/audio-analysis/5y22XdrQ3hfIBmmPR8cDdc', 'duration_ms': 121846, 'time_signature': 4}]\n",
      "Woosah (feat. CHIEF KEEF)\n",
      "[{'danceability': 0.487, 'energy': 0.768, 'key': 7, 'loudness': -3.364, 'mode': 0, 'speechiness': 0.053, 'acousticness': 0.566, 'instrumentalness': 0.0382, 'liveness': 0.192, 'valence': 0.736, 'tempo': 151.869, 'type': 'audio_features', 'id': '5rk8S5vuK3pt8PZK4NDGkJ', 'uri': 'spotify:track:5rk8S5vuK3pt8PZK4NDGkJ', 'track_href': 'https://api.spotify.com/v1/tracks/5rk8S5vuK3pt8PZK4NDGkJ', 'analysis_url': 'https://api.spotify.com/v1/audio-analysis/5rk8S5vuK3pt8PZK4NDGkJ', 'duration_ms': 183158, 'time_signature': 4}]\n",
      "Walk Em Down\n",
      "[{'danceability': 0.607, 'energy': 0.587, 'key': 8, 'loudness': -9.96, 'mode': 1, 'speechiness': 0.431, 'acousticness': 0.213, 'instrumentalness': 0, 'liveness': 0.0812, 'valence': 0.311, 'tempo': 90.052, 'type': 'audio_features', 'id': '0KCE5ZdYvaeWyvZWktZg5J', 'uri': 'spotify:track:0KCE5ZdYvaeWyvZWktZg5J', 'track_href': 'https://api.spotify.com/v1/tracks/0KCE5ZdYvaeWyvZWktZg5J', 'analysis_url': 'https://api.spotify.com/v1/audio-analysis/0KCE5ZdYvaeWyvZWktZg5J', 'duration_ms': 162229, 'time_signature': 4}]\n",
      "Jokes Up\n",
      "[{'danceability': 0.798, 'energy': 0.579, 'key': 2, 'loudness': -6.519, 'mode': 1, 'speechiness': 0.255, 'acousticness': 0.233, 'instrumentalness': 0, 'liveness': 0.0927, 'valence': 0.396, 'tempo': 85.933, 'type': 'audio_features', 'id': '5aWKH0nGBxfm3acsZ30Aei', 'uri': 'spotify:track:5aWKH0nGBxfm3acsZ30Aei', 'track_href': 'https://api.spotify.com/v1/tracks/5aWKH0nGBxfm3acsZ30Aei', 'analysis_url': 'https://api.spotify.com/v1/audio-analysis/5aWKH0nGBxfm3acsZ30Aei', 'duration_ms': 225349, 'time_signature': 4}]\n",
      "TuTu\n",
      "[{'danceability': 0.512, 'energy': 0.703, 'key': 2, 'loudness': -11.97, 'mode': 1, 'speechiness': 0.098, 'acousticness': 0.106, 'instrumentalness': 0.00201, 'liveness': 0.162, 'valence': 0.0873, 'tempo': 179.925, 'type': 'audio_features', 'id': '3CUqDxuF2eQeM0YV4Xmm5m', 'uri': 'spotify:track:3CUqDxuF2eQeM0YV4Xmm5m', 'track_href': 'https://api.spotify.com/v1/tracks/3CUqDxuF2eQeM0YV4Xmm5m', 'analysis_url': 'https://api.spotify.com/v1/audio-analysis/3CUqDxuF2eQeM0YV4Xmm5m', 'duration_ms': 125944, 'time_signature': 4}]\n",
      "Hydrocodone (Breeding is a crime)\n",
      "[{'danceability': 0.266, 'energy': 0.821, 'key': 10, 'loudness': -4.958, 'mode': 0, 'speechiness': 0.0578, 'acousticness': 4.55e-05, 'instrumentalness': 0.521, 'liveness': 0.555, 'valence': 0.369, 'tempo': 150.081, 'type': 'audio_features', 'id': '0cHGnM22qPSY0VkbW2Jzuf', 'uri': 'spotify:track:0cHGnM22qPSY0VkbW2Jzuf', 'track_href': 'https://api.spotify.com/v1/tracks/0cHGnM22qPSY0VkbW2Jzuf', 'analysis_url': 'https://api.spotify.com/v1/audio-analysis/0cHGnM22qPSY0VkbW2Jzuf', 'duration_ms': 206368, 'time_signature': 4}]\n",
      "I Love You Sky of Blue\n",
      "[{'danceability': 0.774, 'energy': 0.544, 'key': 10, 'loudness': -6.7, 'mode': 1, 'speechiness': 0.354, 'acousticness': 0.298, 'instrumentalness': 0.0213, 'liveness': 0.146, 'valence': 0.882, 'tempo': 159.991, 'type': 'audio_features', 'id': '6bc8wKZycZs64kdZdva5tA', 'uri': 'spotify:track:6bc8wKZycZs64kdZdva5tA', 'track_href': 'https://api.spotify.com/v1/tracks/6bc8wKZycZs64kdZdva5tA', 'analysis_url': 'https://api.spotify.com/v1/audio-analysis/6bc8wKZycZs64kdZdva5tA', 'duration_ms': 99448, 'time_signature': 4}]\n",
      "Need My Cash\n",
      "[{'danceability': 0.628, 'energy': 0.714, 'key': 2, 'loudness': -8.579, 'mode': 0, 'speechiness': 0.457, 'acousticness': 0.165, 'instrumentalness': 8.71e-05, 'liveness': 0.121, 'valence': 0.467, 'tempo': 150.058, 'type': 'audio_features', 'id': '5KN2bUZa49ZJ9NXjBKego1', 'uri': 'spotify:track:5KN2bUZa49ZJ9NXjBKego1', 'track_href': 'https://api.spotify.com/v1/tracks/5KN2bUZa49ZJ9NXjBKego1', 'analysis_url': 'https://api.spotify.com/v1/audio-analysis/5KN2bUZa49ZJ9NXjBKego1', 'duration_ms': 103765, 'time_signature': 4}]\n",
      "And I Gangbang\n",
      "[{'danceability': 0.733, 'energy': 0.608, 'key': 7, 'loudness': -9.397, 'mode': 1, 'speechiness': 0.441, 'acousticness': 0.00794, 'instrumentalness': 0, 'liveness': 0.257, 'valence': 0.807, 'tempo': 159.976, 'type': 'audio_features', 'id': '5VIcIdLfWpNZKjlUGcC17y', 'uri': 'spotify:track:5VIcIdLfWpNZKjlUGcC17y', 'track_href': 'https://api.spotify.com/v1/tracks/5VIcIdLfWpNZKjlUGcC17y', 'analysis_url': 'https://api.spotify.com/v1/audio-analysis/5VIcIdLfWpNZKjlUGcC17y', 'duration_ms': 133904, 'time_signature': 4}]\n",
      "4 Da Gang (with Roddy Ricch)\n",
      "[{'danceability': 0.87, 'energy': 0.561, 'key': 7, 'loudness': -10.388, 'mode': 1, 'speechiness': 0.186, 'acousticness': 0.0124, 'instrumentalness': 0, 'liveness': 0.103, 'valence': 0.691, 'tempo': 100.458, 'type': 'audio_features', 'id': '1mAey8kEPmDM2icL56kS9d', 'uri': 'spotify:track:1mAey8kEPmDM2icL56kS9d', 'track_href': 'https://api.spotify.com/v1/tracks/1mAey8kEPmDM2icL56kS9d', 'analysis_url': 'https://api.spotify.com/v1/audio-analysis/1mAey8kEPmDM2icL56kS9d', 'duration_ms': 156368, 'time_signature': 4}]\n",
      "All Blue\n",
      "[{'danceability': 0.677, 'energy': 0.727, 'key': 9, 'loudness': -5.414, 'mode': 0, 'speechiness': 0.412, 'acousticness': 0.0153, 'instrumentalness': 0, 'liveness': 0.555, 'valence': 0.482, 'tempo': 184.019, 'type': 'audio_features', 'id': '5LpCfRVUfXsuVKw8qLAazl', 'uri': 'spotify:track:5LpCfRVUfXsuVKw8qLAazl', 'track_href': 'https://api.spotify.com/v1/tracks/5LpCfRVUfXsuVKw8qLAazl', 'analysis_url': 'https://api.spotify.com/v1/audio-analysis/5LpCfRVUfXsuVKw8qLAazl', 'duration_ms': 176000, 'time_signature': 3}]\n",
      "Spazz\n"
     ]
    },
    {
     "name": "stdout",
     "output_type": "stream",
     "text": [
      "[{'danceability': 0.836, 'energy': 0.884, 'key': 8, 'loudness': -5.592, 'mode': 0, 'speechiness': 0.347, 'acousticness': 0.067, 'instrumentalness': 0, 'liveness': 0.0654, 'valence': 0.636, 'tempo': 92.921, 'type': 'audio_features', 'id': '1SucWpvRd9mXNFAA2nizga', 'uri': 'spotify:track:1SucWpvRd9mXNFAA2nizga', 'track_href': 'https://api.spotify.com/v1/tracks/1SucWpvRd9mXNFAA2nizga', 'analysis_url': 'https://api.spotify.com/v1/audio-analysis/1SucWpvRd9mXNFAA2nizga', 'duration_ms': 137563, 'time_signature': 4}]\n",
      "AR70\n",
      "[{'danceability': 0.804, 'energy': 0.724, 'key': 7, 'loudness': -6.024, 'mode': 0, 'speechiness': 0.22, 'acousticness': 0.109, 'instrumentalness': 0.000128, 'liveness': 0.342, 'valence': 0.698, 'tempo': 136.103, 'type': 'audio_features', 'id': '1X0KEZdc3XGdVZLm064JzH', 'uri': 'spotify:track:1X0KEZdc3XGdVZLm064JzH', 'track_href': 'https://api.spotify.com/v1/tracks/1X0KEZdc3XGdVZLm064JzH', 'analysis_url': 'https://api.spotify.com/v1/audio-analysis/1X0KEZdc3XGdVZLm064JzH', 'duration_ms': 115588, 'time_signature': 4}]\n",
      "Good 4 Me\n",
      "[{'danceability': 0.473, 'energy': 0.944, 'key': 6, 'loudness': -2.098, 'mode': 0, 'speechiness': 0.0451, 'acousticness': 0.000232, 'instrumentalness': 0.000326, 'liveness': 0.113, 'valence': 0.481, 'tempo': 160.036, 'type': 'audio_features', 'id': '12k1UzmjvBDK2eytL2G3BB', 'uri': 'spotify:track:12k1UzmjvBDK2eytL2G3BB', 'track_href': 'https://api.spotify.com/v1/tracks/12k1UzmjvBDK2eytL2G3BB', 'analysis_url': 'https://api.spotify.com/v1/audio-analysis/12k1UzmjvBDK2eytL2G3BB', 'duration_ms': 156038, 'time_signature': 4}]\n",
      "Raf\n",
      "[{'danceability': 0.62, 'energy': 0.765, 'key': 7, 'loudness': -5.295, 'mode': 1, 'speechiness': 0.0549, 'acousticness': 0.154, 'instrumentalness': 0, 'liveness': 0.6, 'valence': 0.464, 'tempo': 93.523, 'type': 'audio_features', 'id': '1tN9ghIlqvzyUsHiBlxpOt', 'uri': 'spotify:track:1tN9ghIlqvzyUsHiBlxpOt', 'track_href': 'https://api.spotify.com/v1/tracks/1tN9ghIlqvzyUsHiBlxpOt', 'analysis_url': 'https://api.spotify.com/v1/audio-analysis/1tN9ghIlqvzyUsHiBlxpOt', 'duration_ms': 166043, 'time_signature': 4}]\n",
      "Feel Like Mike Miller\n",
      "[{'danceability': 0.797, 'energy': 0.62, 'key': 0, 'loudness': -5.747, 'mode': 1, 'speechiness': 0.445, 'acousticness': 0.101, 'instrumentalness': 0, 'liveness': 0.194, 'valence': 0.666, 'tempo': 185.573, 'type': 'audio_features', 'id': '4IY9LhhBt0JZlyFXVRwbpV', 'uri': 'spotify:track:4IY9LhhBt0JZlyFXVRwbpV', 'track_href': 'https://api.spotify.com/v1/tracks/4IY9LhhBt0JZlyFXVRwbpV', 'analysis_url': 'https://api.spotify.com/v1/audio-analysis/4IY9LhhBt0JZlyFXVRwbpV', 'duration_ms': 73391, 'time_signature': 4}]\n",
      "Secret Service\n",
      "[{'danceability': 0.905, 'energy': 0.616, 'key': 10, 'loudness': -7.805, 'mode': 0, 'speechiness': 0.281, 'acousticness': 0.19, 'instrumentalness': 0, 'liveness': 0.113, 'valence': 0.673, 'tempo': 102.041, 'type': 'audio_features', 'id': '3Ejd7TKYqanSVfTBDAFPxH', 'uri': 'spotify:track:3Ejd7TKYqanSVfTBDAFPxH', 'track_href': 'https://api.spotify.com/v1/tracks/3Ejd7TKYqanSVfTBDAFPxH', 'analysis_url': 'https://api.spotify.com/v1/audio-analysis/3Ejd7TKYqanSVfTBDAFPxH', 'duration_ms': 192941, 'time_signature': 4}]\n",
      "Wake Up (2016 Unreleased)\n",
      "[{'danceability': 0.692, 'energy': 0.566, 'key': 8, 'loudness': -7.613, 'mode': 1, 'speechiness': 0.228, 'acousticness': 0.0591, 'instrumentalness': 0, 'liveness': 0.137, 'valence': 0.539, 'tempo': 124.766, 'type': 'audio_features', 'id': '5svZz4pqFTyJXkCC0EEaoU', 'uri': 'spotify:track:5svZz4pqFTyJXkCC0EEaoU', 'track_href': 'https://api.spotify.com/v1/tracks/5svZz4pqFTyJXkCC0EEaoU', 'analysis_url': 'https://api.spotify.com/v1/audio-analysis/5svZz4pqFTyJXkCC0EEaoU', 'duration_ms': 158663, 'time_signature': 3}]\n",
      "Hallla\n",
      "[{'danceability': 0.943, 'energy': 0.775, 'key': 11, 'loudness': -6.655, 'mode': 0, 'speechiness': 0.129, 'acousticness': 0.0115, 'instrumentalness': 0, 'liveness': 0.104, 'valence': 0.498, 'tempo': 99.971, 'type': 'audio_features', 'id': '5WyOzmCWzvfyIxccUYS61h', 'uri': 'spotify:track:5WyOzmCWzvfyIxccUYS61h', 'track_href': 'https://api.spotify.com/v1/tracks/5WyOzmCWzvfyIxccUYS61h', 'analysis_url': 'https://api.spotify.com/v1/audio-analysis/5WyOzmCWzvfyIxccUYS61h', 'duration_ms': 115200, 'time_signature': 4}]\n",
      "Spaz Wit Them Bands\n",
      "[{'danceability': 0.558, 'energy': 0.868, 'key': 9, 'loudness': -5.972, 'mode': 1, 'speechiness': 0.0341, 'acousticness': 0.00871, 'instrumentalness': 0.0114, 'liveness': 0.0948, 'valence': 0.0888, 'tempo': 110.051, 'type': 'audio_features', 'id': '5kvUBGzS6fr9NPRAJufiw0', 'uri': 'spotify:track:5kvUBGzS6fr9NPRAJufiw0', 'track_href': 'https://api.spotify.com/v1/tracks/5kvUBGzS6fr9NPRAJufiw0', 'analysis_url': 'https://api.spotify.com/v1/audio-analysis/5kvUBGzS6fr9NPRAJufiw0', 'duration_ms': 195302, 'time_signature': 4}]\n",
      "Fisher Price\n",
      "[{'danceability': 0.888, 'energy': 0.415, 'key': 1, 'loudness': -14.214, 'mode': 1, 'speechiness': 0.549, 'acousticness': 0.00422, 'instrumentalness': 0, 'liveness': 0.0804, 'valence': 0.452, 'tempo': 99.995, 'type': 'audio_features', 'id': '0kyOZwVjVdd9qU1aXBu4A5', 'uri': 'spotify:track:0kyOZwVjVdd9qU1aXBu4A5', 'track_href': 'https://api.spotify.com/v1/tracks/0kyOZwVjVdd9qU1aXBu4A5', 'analysis_url': 'https://api.spotify.com/v1/audio-analysis/0kyOZwVjVdd9qU1aXBu4A5', 'duration_ms': 165669, 'time_signature': 4}]\n",
      "Ford Tough\n",
      "[{'danceability': 0.56, 'energy': 0.629, 'key': 9, 'loudness': -11.258, 'mode': 0, 'speechiness': 0.322, 'acousticness': 0.108, 'instrumentalness': 0, 'liveness': 0.0802, 'valence': 0.473, 'tempo': 87.59, 'type': 'audio_features', 'id': '69prykLWYLVdTkMcqE11Fv', 'uri': 'spotify:track:69prykLWYLVdTkMcqE11Fv', 'track_href': 'https://api.spotify.com/v1/tracks/69prykLWYLVdTkMcqE11Fv', 'analysis_url': 'https://api.spotify.com/v1/audio-analysis/69prykLWYLVdTkMcqE11Fv', 'duration_ms': 131422, 'time_signature': 1}]\n",
      "Stop Snitching\n",
      "[{'danceability': 0.641, 'energy': 0.608, 'key': 1, 'loudness': -10.784, 'mode': 1, 'speechiness': 0.334, 'acousticness': 0.368, 'instrumentalness': 1.09e-05, 'liveness': 0.0817, 'valence': 0.228, 'tempo': 105.377, 'type': 'audio_features', 'id': '5f2RQfDzvFY4pWJ3HmoQxk', 'uri': 'spotify:track:5f2RQfDzvFY4pWJ3HmoQxk', 'track_href': 'https://api.spotify.com/v1/tracks/5f2RQfDzvFY4pWJ3HmoQxk', 'analysis_url': 'https://api.spotify.com/v1/audio-analysis/5f2RQfDzvFY4pWJ3HmoQxk', 'duration_ms': 126851, 'time_signature': 4}]\n",
      "Superstitious\n",
      "[{'danceability': 0.922, 'energy': 0.414, 'key': 8, 'loudness': -10.926, 'mode': 1, 'speechiness': 0.544, 'acousticness': 0.0197, 'instrumentalness': 0, 'liveness': 0.0822, 'valence': 0.345, 'tempo': 106.034, 'type': 'audio_features', 'id': '5Jzb2q7d4nMiaIkoJVT3EG', 'uri': 'spotify:track:5Jzb2q7d4nMiaIkoJVT3EG', 'track_href': 'https://api.spotify.com/v1/tracks/5Jzb2q7d4nMiaIkoJVT3EG', 'analysis_url': 'https://api.spotify.com/v1/audio-analysis/5Jzb2q7d4nMiaIkoJVT3EG', 'duration_ms': 108748, 'time_signature': 4}]\n",
      "The Virus\n",
      "[{'danceability': 0.565, 'energy': 0.557, 'key': 11, 'loudness': -9.88, 'mode': 1, 'speechiness': 0.577, 'acousticness': 0.0539, 'instrumentalness': 0, 'liveness': 0.0921, 'valence': 0.767, 'tempo': 209.311, 'type': 'audio_features', 'id': '2ycowDfOv4vIN5v6rmYYxm', 'uri': 'spotify:track:2ycowDfOv4vIN5v6rmYYxm', 'track_href': 'https://api.spotify.com/v1/tracks/2ycowDfOv4vIN5v6rmYYxm', 'analysis_url': 'https://api.spotify.com/v1/audio-analysis/2ycowDfOv4vIN5v6rmYYxm', 'duration_ms': 149656, 'time_signature': 4}]\n",
      "Tj Vasher\n",
      "[{'danceability': 0.818, 'energy': 0.711, 'key': 4, 'loudness': -9.192, 'mode': 0, 'speechiness': 0.514, 'acousticness': 0.152, 'instrumentalness': 0, 'liveness': 0.104, 'valence': 0.645, 'tempo': 105.056, 'type': 'audio_features', 'id': '7y13joqxobXdDFf6NDo6km', 'uri': 'spotify:track:7y13joqxobXdDFf6NDo6km', 'track_href': 'https://api.spotify.com/v1/tracks/7y13joqxobXdDFf6NDo6km', 'analysis_url': 'https://api.spotify.com/v1/audio-analysis/7y13joqxobXdDFf6NDo6km', 'duration_ms': 201169, 'time_signature': 4}]\n",
      "Addams Family\n",
      "[{'danceability': 0.65, 'energy': 0.561, 'key': 8, 'loudness': -12.418, 'mode': 0, 'speechiness': 0.555, 'acousticness': 0.0516, 'instrumentalness': 0, 'liveness': 0.61, 'valence': 0.791, 'tempo': 104.06, 'type': 'audio_features', 'id': '1ydyHRiTvtoQkJWnFcmjVo', 'uri': 'spotify:track:1ydyHRiTvtoQkJWnFcmjVo', 'track_href': 'https://api.spotify.com/v1/tracks/1ydyHRiTvtoQkJWnFcmjVo', 'analysis_url': 'https://api.spotify.com/v1/audio-analysis/1ydyHRiTvtoQkJWnFcmjVo', 'duration_ms': 169195, 'time_signature': 4}]\n",
      "Slick Talkin\n",
      "[{'danceability': 0.84, 'energy': 0.379, 'key': 1, 'loudness': -12.472, 'mode': 1, 'speechiness': 0.385, 'acousticness': 0.0796, 'instrumentalness': 0, 'liveness': 0.119, 'valence': 0.395, 'tempo': 104.928, 'type': 'audio_features', 'id': '4JyWCcWeCza9hbO1AOliAP', 'uri': 'spotify:track:4JyWCcWeCza9hbO1AOliAP', 'track_href': 'https://api.spotify.com/v1/tracks/4JyWCcWeCza9hbO1AOliAP', 'analysis_url': 'https://api.spotify.com/v1/audio-analysis/4JyWCcWeCza9hbO1AOliAP', 'duration_ms': 182988, 'time_signature': 4}]\n"
     ]
    },
    {
     "name": "stdout",
     "output_type": "stream",
     "text": [
      "Real Shit\n",
      "[{'danceability': 0.937, 'energy': 0.589, 'key': 1, 'loudness': -8.871, 'mode': 1, 'speechiness': 0.479, 'acousticness': 0.192, 'instrumentalness': 0, 'liveness': 0.102, 'valence': 0.891, 'tempo': 100.995, 'type': 'audio_features', 'id': '4wCorOh6T4D5agXHwt5ZqW', 'uri': 'spotify:track:4wCorOh6T4D5agXHwt5ZqW', 'track_href': 'https://api.spotify.com/v1/tracks/4wCorOh6T4D5agXHwt5ZqW', 'analysis_url': 'https://api.spotify.com/v1/audio-analysis/4wCorOh6T4D5agXHwt5ZqW', 'duration_ms': 194859, 'time_signature': 4}]\n",
      "Spaced Out\n",
      "[{'danceability': 0.704, 'energy': 0.594, 'key': 2, 'loudness': -6.966, 'mode': 1, 'speechiness': 0.211, 'acousticness': 0.0493, 'instrumentalness': 5.29e-05, 'liveness': 0.132, 'valence': 0.296, 'tempo': 78.585, 'type': 'audio_features', 'id': '4y3l1Qk130C1ebtgIGxltq', 'uri': 'spotify:track:4y3l1Qk130C1ebtgIGxltq', 'track_href': 'https://api.spotify.com/v1/tracks/4y3l1Qk130C1ebtgIGxltq', 'analysis_url': 'https://api.spotify.com/v1/audio-analysis/4y3l1Qk130C1ebtgIGxltq', 'duration_ms': 189554, 'time_signature': 4}]\n",
      "Westside 2 the Westside\n",
      "[{'danceability': 0.949, 'energy': 0.394, 'key': 9, 'loudness': -12.084, 'mode': 1, 'speechiness': 0.499, 'acousticness': 0.324, 'instrumentalness': 0, 'liveness': 0.123, 'valence': 0.583, 'tempo': 107.956, 'type': 'audio_features', 'id': '2sd8vwFpdmvwaDGiu9nVFE', 'uri': 'spotify:track:2sd8vwFpdmvwaDGiu9nVFE', 'track_href': 'https://api.spotify.com/v1/tracks/2sd8vwFpdmvwaDGiu9nVFE', 'analysis_url': 'https://api.spotify.com/v1/audio-analysis/2sd8vwFpdmvwaDGiu9nVFE', 'duration_ms': 122462, 'time_signature': 4}]\n",
      "Doves to Vultures (Ywn Anthem)\n",
      "[{'danceability': 0.951, 'energy': 0.683, 'key': 0, 'loudness': -8.056, 'mode': 1, 'speechiness': 0.291, 'acousticness': 0.0288, 'instrumentalness': 0, 'liveness': 0.103, 'valence': 0.884, 'tempo': 102.01, 'type': 'audio_features', 'id': '3ZE8fm8nPUq1hJmWqCQ3tE', 'uri': 'spotify:track:3ZE8fm8nPUq1hJmWqCQ3tE', 'track_href': 'https://api.spotify.com/v1/tracks/3ZE8fm8nPUq1hJmWqCQ3tE', 'analysis_url': 'https://api.spotify.com/v1/audio-analysis/3ZE8fm8nPUq1hJmWqCQ3tE', 'duration_ms': 155350, 'time_signature': 4}]\n",
      "Crash Dummy\n",
      "[{'danceability': 0.946, 'energy': 0.405, 'key': 0, 'loudness': -9.483, 'mode': 1, 'speechiness': 0.354, 'acousticness': 0.516, 'instrumentalness': 0, 'liveness': 0.314, 'valence': 0.435, 'tempo': 105.035, 'type': 'audio_features', 'id': '3xJUzyrjsBGjZrjgLlab1j', 'uri': 'spotify:track:3xJUzyrjsBGjZrjgLlab1j', 'track_href': 'https://api.spotify.com/v1/tracks/3xJUzyrjsBGjZrjgLlab1j', 'analysis_url': 'https://api.spotify.com/v1/audio-analysis/3xJUzyrjsBGjZrjgLlab1j', 'duration_ms': 126321, 'time_signature': 4}]\n",
      "Intro\n",
      "[{'danceability': 0.827, 'energy': 0.517, 'key': 5, 'loudness': -8.916, 'mode': 0, 'speechiness': 0.258, 'acousticness': 0.0194, 'instrumentalness': 1.7e-05, 'liveness': 0.165, 'valence': 0.204, 'tempo': 101.989, 'type': 'audio_features', 'id': '5DNtv0dw2kTcLXLLT4MD9l', 'uri': 'spotify:track:5DNtv0dw2kTcLXLLT4MD9l', 'track_href': 'https://api.spotify.com/v1/tracks/5DNtv0dw2kTcLXLLT4MD9l', 'analysis_url': 'https://api.spotify.com/v1/audio-analysis/5DNtv0dw2kTcLXLLT4MD9l', 'duration_ms': 136471, 'time_signature': 4}]\n",
      "Based (Freestyle)\n",
      "[{'danceability': 0.901, 'energy': 0.492, 'key': 7, 'loudness': -7.07, 'mode': 1, 'speechiness': 0.462, 'acousticness': 0.0118, 'instrumentalness': 0, 'liveness': 0.142, 'valence': 0.265, 'tempo': 145.935, 'type': 'audio_features', 'id': '7i2QDFQ8d6o7xtzqrr5YSN', 'uri': 'spotify:track:7i2QDFQ8d6o7xtzqrr5YSN', 'track_href': 'https://api.spotify.com/v1/tracks/7i2QDFQ8d6o7xtzqrr5YSN', 'analysis_url': 'https://api.spotify.com/v1/audio-analysis/7i2QDFQ8d6o7xtzqrr5YSN', 'duration_ms': 115122, 'time_signature': 4}]\n",
      "Slide thru\n",
      "[{'danceability': 0.771, 'energy': 0.33, 'key': 1, 'loudness': -13.75, 'mode': 1, 'speechiness': 0.871, 'acousticness': 0.0711, 'instrumentalness': 0, 'liveness': 0.111, 'valence': 0.478, 'tempo': 183.827, 'type': 'audio_features', 'id': '2ibclgAlwkX1xD4N6IpAx3', 'uri': 'spotify:track:2ibclgAlwkX1xD4N6IpAx3', 'track_href': 'https://api.spotify.com/v1/tracks/2ibclgAlwkX1xD4N6IpAx3', 'analysis_url': 'https://api.spotify.com/v1/audio-analysis/2ibclgAlwkX1xD4N6IpAx3', 'duration_ms': 100124, 'time_signature': 4}]\n",
      "Dondadda\n",
      "[{'danceability': 0.664, 'energy': 0.957, 'key': 10, 'loudness': -8.135, 'mode': 1, 'speechiness': 0.404, 'acousticness': 0.0564, 'instrumentalness': 0, 'liveness': 0.457, 'valence': 0.712, 'tempo': 87.966, 'type': 'audio_features', 'id': '0x8tXEvOtFlb7gUST9Tf6R', 'uri': 'spotify:track:0x8tXEvOtFlb7gUST9Tf6R', 'track_href': 'https://api.spotify.com/v1/tracks/0x8tXEvOtFlb7gUST9Tf6R', 'analysis_url': 'https://api.spotify.com/v1/audio-analysis/0x8tXEvOtFlb7gUST9Tf6R', 'duration_ms': 166296, 'time_signature': 4}]\n",
      "Thinking Of Someone Else\n",
      "[{'danceability': 0.516, 'energy': 0.816, 'key': 4, 'loudness': -7.87, 'mode': 0, 'speechiness': 0.518, 'acousticness': 0.166, 'instrumentalness': 0, 'liveness': 0.145, 'valence': 0.356, 'tempo': 119.383, 'type': 'audio_features', 'id': '40rDVEAQdC4JgFuVNs7NM4', 'uri': 'spotify:track:40rDVEAQdC4JgFuVNs7NM4', 'track_href': 'https://api.spotify.com/v1/tracks/40rDVEAQdC4JgFuVNs7NM4', 'analysis_url': 'https://api.spotify.com/v1/audio-analysis/40rDVEAQdC4JgFuVNs7NM4', 'duration_ms': 152392, 'time_signature': 5}]\n",
      "Run It Back (feat. 03 Greedo)\n",
      "[{'danceability': 0.68, 'energy': 0.641, 'key': 10, 'loudness': -5.093, 'mode': 0, 'speechiness': 0.213, 'acousticness': 0.0121, 'instrumentalness': 0, 'liveness': 0.142, 'valence': 0.157, 'tempo': 94.98, 'type': 'audio_features', 'id': '62cCw30aDOfi5qqrQgDTwL', 'uri': 'spotify:track:62cCw30aDOfi5qqrQgDTwL', 'track_href': 'https://api.spotify.com/v1/tracks/62cCw30aDOfi5qqrQgDTwL', 'analysis_url': 'https://api.spotify.com/v1/audio-analysis/62cCw30aDOfi5qqrQgDTwL', 'duration_ms': 207536, 'time_signature': 4}]\n"
     ]
    }
   ],
   "source": [
    "for track in sp.playlist_tracks(playlist_URI)[\"items\"]:\n",
    "    #URI\n",
    "    track_uri = track[\"track\"][\"uri\"]\n",
    "    \n",
    "    #Track name\n",
    "    track_name = track[\"track\"][\"name\"]\n",
    "    \n",
    "    #Main Artist\n",
    "    artist_uri = track[\"track\"][\"artists\"][0][\"uri\"]\n",
    "    artist_info = sp.artist(artist_uri)\n",
    "    \n",
    "    #Name, popularity, genre\n",
    "    artist_name = track[\"track\"][\"artists\"][0][\"name\"]\n",
    "    artist_pop = artist_info[\"popularity\"]\n",
    "    artist_genres = artist_info[\"genres\"]\n",
    "    \n",
    "    #Album\n",
    "    album = track[\"track\"][\"album\"][\"name\"]\n",
    "    \n",
    "    #Popularity of the track\n",
    "    track_pop = track[\"track\"][\"popularity\"]\n",
    "    \n",
    "    # TEST\n",
    "    print(track_name)\n",
    "    print(sp.audio_features(track_uri))\n",
    "    \n",
    "    "
   ]
  },
  {
   "cell_type": "code",
   "execution_count": 28,
   "id": "c174ec6b",
   "metadata": {},
   "outputs": [
    {
     "name": "stdout",
     "output_type": "stream",
     "text": [
      "{'danceability': 0.86, 'energy': 0.44, 'key': 2, 'loudness': -11.896, 'mode': 1, 'speechiness': 0.523, 'acousticness': 0.0609, 'instrumentalness': 4.38e-05, 'liveness': 0.279, 'valence': 0.48, 'tempo': 98.98, 'type': 'audio_features', 'id': '6qSvCwqqIydcrENlWHvRQD', 'uri': 'spotify:track:6qSvCwqqIydcrENlWHvRQD', 'track_href': 'https://api.spotify.com/v1/tracks/6qSvCwqqIydcrENlWHvRQD', 'analysis_url': 'https://api.spotify.com/v1/audio-analysis/6qSvCwqqIydcrENlWHvRQD', 'duration_ms': 206002, 'time_signature': 4}\n",
      "{'danceability': 0.914, 'energy': 0.606, 'key': 1, 'loudness': -3.777, 'mode': 1, 'speechiness': 0.293, 'acousticness': 0.00427, 'instrumentalness': 0, 'liveness': 0.287, 'valence': 0.857, 'tempo': 89.973, 'type': 'audio_features', 'id': '2ws5usRc2Ad4GyJLyr8SkA', 'uri': 'spotify:track:2ws5usRc2Ad4GyJLyr8SkA', 'track_href': 'https://api.spotify.com/v1/tracks/2ws5usRc2Ad4GyJLyr8SkA', 'analysis_url': 'https://api.spotify.com/v1/audio-analysis/2ws5usRc2Ad4GyJLyr8SkA', 'duration_ms': 90070, 'time_signature': 4}\n",
      "{'danceability': 0.666, 'energy': 0.812, 'key': 1, 'loudness': -2.973, 'mode': 1, 'speechiness': 0.0353, 'acousticness': 0.00886, 'instrumentalness': 1.1e-06, 'liveness': 0.376, 'valence': 0.382, 'tempo': 156.075, 'type': 'audio_features', 'id': '5oFjcloBXWS6vq24VLd92U', 'uri': 'spotify:track:5oFjcloBXWS6vq24VLd92U', 'track_href': 'https://api.spotify.com/v1/tracks/5oFjcloBXWS6vq24VLd92U', 'analysis_url': 'https://api.spotify.com/v1/audio-analysis/5oFjcloBXWS6vq24VLd92U', 'duration_ms': 98514, 'time_signature': 4}\n",
      "{'danceability': 0.865, 'energy': 0.57, 'key': 1, 'loudness': -7.446, 'mode': 1, 'speechiness': 0.178, 'acousticness': 0.165, 'instrumentalness': 0, 'liveness': 0.145, 'valence': 0.447, 'tempo': 115.049, 'type': 'audio_features', 'id': '5PIDCXdOPoVxuElu2GrRNH', 'uri': 'spotify:track:5PIDCXdOPoVxuElu2GrRNH', 'track_href': 'https://api.spotify.com/v1/tracks/5PIDCXdOPoVxuElu2GrRNH', 'analysis_url': 'https://api.spotify.com/v1/audio-analysis/5PIDCXdOPoVxuElu2GrRNH', 'duration_ms': 150261, 'time_signature': 4}\n",
      "{'danceability': 0.878, 'energy': 0.635, 'key': 6, 'loudness': -5.811, 'mode': 0, 'speechiness': 0.24, 'acousticness': 0.0289, 'instrumentalness': 0, 'liveness': 0.276, 'valence': 0.331, 'tempo': 135.035, 'type': 'audio_features', 'id': '5gmkw2031VVIboYqPIjSWB', 'uri': 'spotify:track:5gmkw2031VVIboYqPIjSWB', 'track_href': 'https://api.spotify.com/v1/tracks/5gmkw2031VVIboYqPIjSWB', 'analysis_url': 'https://api.spotify.com/v1/audio-analysis/5gmkw2031VVIboYqPIjSWB', 'duration_ms': 176040, 'time_signature': 4}\n",
      "{'danceability': 0.668, 'energy': 0.938, 'key': 0, 'loudness': -2.333, 'mode': 1, 'speechiness': 0.231, 'acousticness': 0.605, 'instrumentalness': 0, 'liveness': 0.237, 'valence': 0.494, 'tempo': 130.054, 'type': 'audio_features', 'id': '5y22XdrQ3hfIBmmPR8cDdc', 'uri': 'spotify:track:5y22XdrQ3hfIBmmPR8cDdc', 'track_href': 'https://api.spotify.com/v1/tracks/5y22XdrQ3hfIBmmPR8cDdc', 'analysis_url': 'https://api.spotify.com/v1/audio-analysis/5y22XdrQ3hfIBmmPR8cDdc', 'duration_ms': 121846, 'time_signature': 4}\n",
      "{'danceability': 0.487, 'energy': 0.768, 'key': 7, 'loudness': -3.364, 'mode': 0, 'speechiness': 0.053, 'acousticness': 0.566, 'instrumentalness': 0.0382, 'liveness': 0.192, 'valence': 0.736, 'tempo': 151.869, 'type': 'audio_features', 'id': '5rk8S5vuK3pt8PZK4NDGkJ', 'uri': 'spotify:track:5rk8S5vuK3pt8PZK4NDGkJ', 'track_href': 'https://api.spotify.com/v1/tracks/5rk8S5vuK3pt8PZK4NDGkJ', 'analysis_url': 'https://api.spotify.com/v1/audio-analysis/5rk8S5vuK3pt8PZK4NDGkJ', 'duration_ms': 183158, 'time_signature': 4}\n",
      "{'danceability': 0.607, 'energy': 0.587, 'key': 8, 'loudness': -9.96, 'mode': 1, 'speechiness': 0.431, 'acousticness': 0.213, 'instrumentalness': 0, 'liveness': 0.0812, 'valence': 0.311, 'tempo': 90.052, 'type': 'audio_features', 'id': '0KCE5ZdYvaeWyvZWktZg5J', 'uri': 'spotify:track:0KCE5ZdYvaeWyvZWktZg5J', 'track_href': 'https://api.spotify.com/v1/tracks/0KCE5ZdYvaeWyvZWktZg5J', 'analysis_url': 'https://api.spotify.com/v1/audio-analysis/0KCE5ZdYvaeWyvZWktZg5J', 'duration_ms': 162229, 'time_signature': 4}\n",
      "{'danceability': 0.798, 'energy': 0.579, 'key': 2, 'loudness': -6.519, 'mode': 1, 'speechiness': 0.255, 'acousticness': 0.233, 'instrumentalness': 0, 'liveness': 0.0927, 'valence': 0.396, 'tempo': 85.933, 'type': 'audio_features', 'id': '5aWKH0nGBxfm3acsZ30Aei', 'uri': 'spotify:track:5aWKH0nGBxfm3acsZ30Aei', 'track_href': 'https://api.spotify.com/v1/tracks/5aWKH0nGBxfm3acsZ30Aei', 'analysis_url': 'https://api.spotify.com/v1/audio-analysis/5aWKH0nGBxfm3acsZ30Aei', 'duration_ms': 225349, 'time_signature': 4}\n",
      "{'danceability': 0.512, 'energy': 0.703, 'key': 2, 'loudness': -11.97, 'mode': 1, 'speechiness': 0.098, 'acousticness': 0.106, 'instrumentalness': 0.00201, 'liveness': 0.162, 'valence': 0.0873, 'tempo': 179.925, 'type': 'audio_features', 'id': '3CUqDxuF2eQeM0YV4Xmm5m', 'uri': 'spotify:track:3CUqDxuF2eQeM0YV4Xmm5m', 'track_href': 'https://api.spotify.com/v1/tracks/3CUqDxuF2eQeM0YV4Xmm5m', 'analysis_url': 'https://api.spotify.com/v1/audio-analysis/3CUqDxuF2eQeM0YV4Xmm5m', 'duration_ms': 125944, 'time_signature': 4}\n",
      "{'danceability': 0.266, 'energy': 0.821, 'key': 10, 'loudness': -4.958, 'mode': 0, 'speechiness': 0.0578, 'acousticness': 4.55e-05, 'instrumentalness': 0.521, 'liveness': 0.555, 'valence': 0.369, 'tempo': 150.081, 'type': 'audio_features', 'id': '0cHGnM22qPSY0VkbW2Jzuf', 'uri': 'spotify:track:0cHGnM22qPSY0VkbW2Jzuf', 'track_href': 'https://api.spotify.com/v1/tracks/0cHGnM22qPSY0VkbW2Jzuf', 'analysis_url': 'https://api.spotify.com/v1/audio-analysis/0cHGnM22qPSY0VkbW2Jzuf', 'duration_ms': 206368, 'time_signature': 4}\n",
      "{'danceability': 0.774, 'energy': 0.544, 'key': 10, 'loudness': -6.7, 'mode': 1, 'speechiness': 0.354, 'acousticness': 0.298, 'instrumentalness': 0.0213, 'liveness': 0.146, 'valence': 0.882, 'tempo': 159.991, 'type': 'audio_features', 'id': '6bc8wKZycZs64kdZdva5tA', 'uri': 'spotify:track:6bc8wKZycZs64kdZdva5tA', 'track_href': 'https://api.spotify.com/v1/tracks/6bc8wKZycZs64kdZdva5tA', 'analysis_url': 'https://api.spotify.com/v1/audio-analysis/6bc8wKZycZs64kdZdva5tA', 'duration_ms': 99448, 'time_signature': 4}\n",
      "{'danceability': 0.628, 'energy': 0.714, 'key': 2, 'loudness': -8.579, 'mode': 0, 'speechiness': 0.457, 'acousticness': 0.165, 'instrumentalness': 8.71e-05, 'liveness': 0.121, 'valence': 0.467, 'tempo': 150.058, 'type': 'audio_features', 'id': '5KN2bUZa49ZJ9NXjBKego1', 'uri': 'spotify:track:5KN2bUZa49ZJ9NXjBKego1', 'track_href': 'https://api.spotify.com/v1/tracks/5KN2bUZa49ZJ9NXjBKego1', 'analysis_url': 'https://api.spotify.com/v1/audio-analysis/5KN2bUZa49ZJ9NXjBKego1', 'duration_ms': 103765, 'time_signature': 4}\n",
      "{'danceability': 0.733, 'energy': 0.608, 'key': 7, 'loudness': -9.397, 'mode': 1, 'speechiness': 0.441, 'acousticness': 0.00794, 'instrumentalness': 0, 'liveness': 0.257, 'valence': 0.807, 'tempo': 159.976, 'type': 'audio_features', 'id': '5VIcIdLfWpNZKjlUGcC17y', 'uri': 'spotify:track:5VIcIdLfWpNZKjlUGcC17y', 'track_href': 'https://api.spotify.com/v1/tracks/5VIcIdLfWpNZKjlUGcC17y', 'analysis_url': 'https://api.spotify.com/v1/audio-analysis/5VIcIdLfWpNZKjlUGcC17y', 'duration_ms': 133904, 'time_signature': 4}\n",
      "{'danceability': 0.87, 'energy': 0.561, 'key': 7, 'loudness': -10.388, 'mode': 1, 'speechiness': 0.186, 'acousticness': 0.0124, 'instrumentalness': 0, 'liveness': 0.103, 'valence': 0.691, 'tempo': 100.458, 'type': 'audio_features', 'id': '1mAey8kEPmDM2icL56kS9d', 'uri': 'spotify:track:1mAey8kEPmDM2icL56kS9d', 'track_href': 'https://api.spotify.com/v1/tracks/1mAey8kEPmDM2icL56kS9d', 'analysis_url': 'https://api.spotify.com/v1/audio-analysis/1mAey8kEPmDM2icL56kS9d', 'duration_ms': 156368, 'time_signature': 4}\n",
      "{'danceability': 0.677, 'energy': 0.727, 'key': 9, 'loudness': -5.414, 'mode': 0, 'speechiness': 0.412, 'acousticness': 0.0153, 'instrumentalness': 0, 'liveness': 0.555, 'valence': 0.482, 'tempo': 184.019, 'type': 'audio_features', 'id': '5LpCfRVUfXsuVKw8qLAazl', 'uri': 'spotify:track:5LpCfRVUfXsuVKw8qLAazl', 'track_href': 'https://api.spotify.com/v1/tracks/5LpCfRVUfXsuVKw8qLAazl', 'analysis_url': 'https://api.spotify.com/v1/audio-analysis/5LpCfRVUfXsuVKw8qLAazl', 'duration_ms': 176000, 'time_signature': 3}\n"
     ]
    },
    {
     "name": "stdout",
     "output_type": "stream",
     "text": [
      "{'danceability': 0.836, 'energy': 0.884, 'key': 8, 'loudness': -5.592, 'mode': 0, 'speechiness': 0.347, 'acousticness': 0.067, 'instrumentalness': 0, 'liveness': 0.0654, 'valence': 0.636, 'tempo': 92.921, 'type': 'audio_features', 'id': '1SucWpvRd9mXNFAA2nizga', 'uri': 'spotify:track:1SucWpvRd9mXNFAA2nizga', 'track_href': 'https://api.spotify.com/v1/tracks/1SucWpvRd9mXNFAA2nizga', 'analysis_url': 'https://api.spotify.com/v1/audio-analysis/1SucWpvRd9mXNFAA2nizga', 'duration_ms': 137563, 'time_signature': 4}\n",
      "{'danceability': 0.804, 'energy': 0.724, 'key': 7, 'loudness': -6.024, 'mode': 0, 'speechiness': 0.22, 'acousticness': 0.109, 'instrumentalness': 0.000128, 'liveness': 0.342, 'valence': 0.698, 'tempo': 136.103, 'type': 'audio_features', 'id': '1X0KEZdc3XGdVZLm064JzH', 'uri': 'spotify:track:1X0KEZdc3XGdVZLm064JzH', 'track_href': 'https://api.spotify.com/v1/tracks/1X0KEZdc3XGdVZLm064JzH', 'analysis_url': 'https://api.spotify.com/v1/audio-analysis/1X0KEZdc3XGdVZLm064JzH', 'duration_ms': 115588, 'time_signature': 4}\n",
      "{'danceability': 0.473, 'energy': 0.944, 'key': 6, 'loudness': -2.098, 'mode': 0, 'speechiness': 0.0451, 'acousticness': 0.000232, 'instrumentalness': 0.000326, 'liveness': 0.113, 'valence': 0.481, 'tempo': 160.036, 'type': 'audio_features', 'id': '12k1UzmjvBDK2eytL2G3BB', 'uri': 'spotify:track:12k1UzmjvBDK2eytL2G3BB', 'track_href': 'https://api.spotify.com/v1/tracks/12k1UzmjvBDK2eytL2G3BB', 'analysis_url': 'https://api.spotify.com/v1/audio-analysis/12k1UzmjvBDK2eytL2G3BB', 'duration_ms': 156038, 'time_signature': 4}\n",
      "{'danceability': 0.62, 'energy': 0.765, 'key': 7, 'loudness': -5.295, 'mode': 1, 'speechiness': 0.0549, 'acousticness': 0.154, 'instrumentalness': 0, 'liveness': 0.6, 'valence': 0.464, 'tempo': 93.523, 'type': 'audio_features', 'id': '1tN9ghIlqvzyUsHiBlxpOt', 'uri': 'spotify:track:1tN9ghIlqvzyUsHiBlxpOt', 'track_href': 'https://api.spotify.com/v1/tracks/1tN9ghIlqvzyUsHiBlxpOt', 'analysis_url': 'https://api.spotify.com/v1/audio-analysis/1tN9ghIlqvzyUsHiBlxpOt', 'duration_ms': 166043, 'time_signature': 4}\n",
      "{'danceability': 0.797, 'energy': 0.62, 'key': 0, 'loudness': -5.747, 'mode': 1, 'speechiness': 0.445, 'acousticness': 0.101, 'instrumentalness': 0, 'liveness': 0.194, 'valence': 0.666, 'tempo': 185.573, 'type': 'audio_features', 'id': '4IY9LhhBt0JZlyFXVRwbpV', 'uri': 'spotify:track:4IY9LhhBt0JZlyFXVRwbpV', 'track_href': 'https://api.spotify.com/v1/tracks/4IY9LhhBt0JZlyFXVRwbpV', 'analysis_url': 'https://api.spotify.com/v1/audio-analysis/4IY9LhhBt0JZlyFXVRwbpV', 'duration_ms': 73391, 'time_signature': 4}\n",
      "{'danceability': 0.905, 'energy': 0.616, 'key': 10, 'loudness': -7.805, 'mode': 0, 'speechiness': 0.281, 'acousticness': 0.19, 'instrumentalness': 0, 'liveness': 0.113, 'valence': 0.673, 'tempo': 102.041, 'type': 'audio_features', 'id': '3Ejd7TKYqanSVfTBDAFPxH', 'uri': 'spotify:track:3Ejd7TKYqanSVfTBDAFPxH', 'track_href': 'https://api.spotify.com/v1/tracks/3Ejd7TKYqanSVfTBDAFPxH', 'analysis_url': 'https://api.spotify.com/v1/audio-analysis/3Ejd7TKYqanSVfTBDAFPxH', 'duration_ms': 192941, 'time_signature': 4}\n",
      "{'danceability': 0.692, 'energy': 0.566, 'key': 8, 'loudness': -7.613, 'mode': 1, 'speechiness': 0.228, 'acousticness': 0.0591, 'instrumentalness': 0, 'liveness': 0.137, 'valence': 0.539, 'tempo': 124.766, 'type': 'audio_features', 'id': '5svZz4pqFTyJXkCC0EEaoU', 'uri': 'spotify:track:5svZz4pqFTyJXkCC0EEaoU', 'track_href': 'https://api.spotify.com/v1/tracks/5svZz4pqFTyJXkCC0EEaoU', 'analysis_url': 'https://api.spotify.com/v1/audio-analysis/5svZz4pqFTyJXkCC0EEaoU', 'duration_ms': 158663, 'time_signature': 3}\n",
      "{'danceability': 0.943, 'energy': 0.775, 'key': 11, 'loudness': -6.655, 'mode': 0, 'speechiness': 0.129, 'acousticness': 0.0115, 'instrumentalness': 0, 'liveness': 0.104, 'valence': 0.498, 'tempo': 99.971, 'type': 'audio_features', 'id': '5WyOzmCWzvfyIxccUYS61h', 'uri': 'spotify:track:5WyOzmCWzvfyIxccUYS61h', 'track_href': 'https://api.spotify.com/v1/tracks/5WyOzmCWzvfyIxccUYS61h', 'analysis_url': 'https://api.spotify.com/v1/audio-analysis/5WyOzmCWzvfyIxccUYS61h', 'duration_ms': 115200, 'time_signature': 4}\n",
      "{'danceability': 0.558, 'energy': 0.868, 'key': 9, 'loudness': -5.972, 'mode': 1, 'speechiness': 0.0341, 'acousticness': 0.00871, 'instrumentalness': 0.0114, 'liveness': 0.0948, 'valence': 0.0888, 'tempo': 110.051, 'type': 'audio_features', 'id': '5kvUBGzS6fr9NPRAJufiw0', 'uri': 'spotify:track:5kvUBGzS6fr9NPRAJufiw0', 'track_href': 'https://api.spotify.com/v1/tracks/5kvUBGzS6fr9NPRAJufiw0', 'analysis_url': 'https://api.spotify.com/v1/audio-analysis/5kvUBGzS6fr9NPRAJufiw0', 'duration_ms': 195302, 'time_signature': 4}\n",
      "{'danceability': 0.888, 'energy': 0.415, 'key': 1, 'loudness': -14.214, 'mode': 1, 'speechiness': 0.549, 'acousticness': 0.00422, 'instrumentalness': 0, 'liveness': 0.0804, 'valence': 0.452, 'tempo': 99.995, 'type': 'audio_features', 'id': '0kyOZwVjVdd9qU1aXBu4A5', 'uri': 'spotify:track:0kyOZwVjVdd9qU1aXBu4A5', 'track_href': 'https://api.spotify.com/v1/tracks/0kyOZwVjVdd9qU1aXBu4A5', 'analysis_url': 'https://api.spotify.com/v1/audio-analysis/0kyOZwVjVdd9qU1aXBu4A5', 'duration_ms': 165669, 'time_signature': 4}\n",
      "{'danceability': 0.56, 'energy': 0.629, 'key': 9, 'loudness': -11.258, 'mode': 0, 'speechiness': 0.322, 'acousticness': 0.108, 'instrumentalness': 0, 'liveness': 0.0802, 'valence': 0.473, 'tempo': 87.59, 'type': 'audio_features', 'id': '69prykLWYLVdTkMcqE11Fv', 'uri': 'spotify:track:69prykLWYLVdTkMcqE11Fv', 'track_href': 'https://api.spotify.com/v1/tracks/69prykLWYLVdTkMcqE11Fv', 'analysis_url': 'https://api.spotify.com/v1/audio-analysis/69prykLWYLVdTkMcqE11Fv', 'duration_ms': 131422, 'time_signature': 1}\n",
      "{'danceability': 0.641, 'energy': 0.608, 'key': 1, 'loudness': -10.784, 'mode': 1, 'speechiness': 0.334, 'acousticness': 0.368, 'instrumentalness': 1.09e-05, 'liveness': 0.0817, 'valence': 0.228, 'tempo': 105.377, 'type': 'audio_features', 'id': '5f2RQfDzvFY4pWJ3HmoQxk', 'uri': 'spotify:track:5f2RQfDzvFY4pWJ3HmoQxk', 'track_href': 'https://api.spotify.com/v1/tracks/5f2RQfDzvFY4pWJ3HmoQxk', 'analysis_url': 'https://api.spotify.com/v1/audio-analysis/5f2RQfDzvFY4pWJ3HmoQxk', 'duration_ms': 126851, 'time_signature': 4}\n",
      "{'danceability': 0.922, 'energy': 0.414, 'key': 8, 'loudness': -10.926, 'mode': 1, 'speechiness': 0.544, 'acousticness': 0.0197, 'instrumentalness': 0, 'liveness': 0.0822, 'valence': 0.345, 'tempo': 106.034, 'type': 'audio_features', 'id': '5Jzb2q7d4nMiaIkoJVT3EG', 'uri': 'spotify:track:5Jzb2q7d4nMiaIkoJVT3EG', 'track_href': 'https://api.spotify.com/v1/tracks/5Jzb2q7d4nMiaIkoJVT3EG', 'analysis_url': 'https://api.spotify.com/v1/audio-analysis/5Jzb2q7d4nMiaIkoJVT3EG', 'duration_ms': 108748, 'time_signature': 4}\n",
      "{'danceability': 0.565, 'energy': 0.557, 'key': 11, 'loudness': -9.88, 'mode': 1, 'speechiness': 0.577, 'acousticness': 0.0539, 'instrumentalness': 0, 'liveness': 0.0921, 'valence': 0.767, 'tempo': 209.311, 'type': 'audio_features', 'id': '2ycowDfOv4vIN5v6rmYYxm', 'uri': 'spotify:track:2ycowDfOv4vIN5v6rmYYxm', 'track_href': 'https://api.spotify.com/v1/tracks/2ycowDfOv4vIN5v6rmYYxm', 'analysis_url': 'https://api.spotify.com/v1/audio-analysis/2ycowDfOv4vIN5v6rmYYxm', 'duration_ms': 149656, 'time_signature': 4}\n",
      "{'danceability': 0.818, 'energy': 0.711, 'key': 4, 'loudness': -9.192, 'mode': 0, 'speechiness': 0.514, 'acousticness': 0.152, 'instrumentalness': 0, 'liveness': 0.104, 'valence': 0.645, 'tempo': 105.056, 'type': 'audio_features', 'id': '7y13joqxobXdDFf6NDo6km', 'uri': 'spotify:track:7y13joqxobXdDFf6NDo6km', 'track_href': 'https://api.spotify.com/v1/tracks/7y13joqxobXdDFf6NDo6km', 'analysis_url': 'https://api.spotify.com/v1/audio-analysis/7y13joqxobXdDFf6NDo6km', 'duration_ms': 201169, 'time_signature': 4}\n",
      "{'danceability': 0.65, 'energy': 0.561, 'key': 8, 'loudness': -12.418, 'mode': 0, 'speechiness': 0.555, 'acousticness': 0.0516, 'instrumentalness': 0, 'liveness': 0.61, 'valence': 0.791, 'tempo': 104.06, 'type': 'audio_features', 'id': '1ydyHRiTvtoQkJWnFcmjVo', 'uri': 'spotify:track:1ydyHRiTvtoQkJWnFcmjVo', 'track_href': 'https://api.spotify.com/v1/tracks/1ydyHRiTvtoQkJWnFcmjVo', 'analysis_url': 'https://api.spotify.com/v1/audio-analysis/1ydyHRiTvtoQkJWnFcmjVo', 'duration_ms': 169195, 'time_signature': 4}\n"
     ]
    },
    {
     "name": "stdout",
     "output_type": "stream",
     "text": [
      "{'danceability': 0.84, 'energy': 0.379, 'key': 1, 'loudness': -12.472, 'mode': 1, 'speechiness': 0.385, 'acousticness': 0.0796, 'instrumentalness': 0, 'liveness': 0.119, 'valence': 0.395, 'tempo': 104.928, 'type': 'audio_features', 'id': '4JyWCcWeCza9hbO1AOliAP', 'uri': 'spotify:track:4JyWCcWeCza9hbO1AOliAP', 'track_href': 'https://api.spotify.com/v1/tracks/4JyWCcWeCza9hbO1AOliAP', 'analysis_url': 'https://api.spotify.com/v1/audio-analysis/4JyWCcWeCza9hbO1AOliAP', 'duration_ms': 182988, 'time_signature': 4}\n",
      "{'danceability': 0.937, 'energy': 0.589, 'key': 1, 'loudness': -8.871, 'mode': 1, 'speechiness': 0.479, 'acousticness': 0.192, 'instrumentalness': 0, 'liveness': 0.102, 'valence': 0.891, 'tempo': 100.995, 'type': 'audio_features', 'id': '4wCorOh6T4D5agXHwt5ZqW', 'uri': 'spotify:track:4wCorOh6T4D5agXHwt5ZqW', 'track_href': 'https://api.spotify.com/v1/tracks/4wCorOh6T4D5agXHwt5ZqW', 'analysis_url': 'https://api.spotify.com/v1/audio-analysis/4wCorOh6T4D5agXHwt5ZqW', 'duration_ms': 194859, 'time_signature': 4}\n",
      "{'danceability': 0.704, 'energy': 0.594, 'key': 2, 'loudness': -6.966, 'mode': 1, 'speechiness': 0.211, 'acousticness': 0.0493, 'instrumentalness': 5.29e-05, 'liveness': 0.132, 'valence': 0.296, 'tempo': 78.585, 'type': 'audio_features', 'id': '4y3l1Qk130C1ebtgIGxltq', 'uri': 'spotify:track:4y3l1Qk130C1ebtgIGxltq', 'track_href': 'https://api.spotify.com/v1/tracks/4y3l1Qk130C1ebtgIGxltq', 'analysis_url': 'https://api.spotify.com/v1/audio-analysis/4y3l1Qk130C1ebtgIGxltq', 'duration_ms': 189554, 'time_signature': 4}\n",
      "{'danceability': 0.949, 'energy': 0.394, 'key': 9, 'loudness': -12.084, 'mode': 1, 'speechiness': 0.499, 'acousticness': 0.324, 'instrumentalness': 0, 'liveness': 0.123, 'valence': 0.583, 'tempo': 107.956, 'type': 'audio_features', 'id': '2sd8vwFpdmvwaDGiu9nVFE', 'uri': 'spotify:track:2sd8vwFpdmvwaDGiu9nVFE', 'track_href': 'https://api.spotify.com/v1/tracks/2sd8vwFpdmvwaDGiu9nVFE', 'analysis_url': 'https://api.spotify.com/v1/audio-analysis/2sd8vwFpdmvwaDGiu9nVFE', 'duration_ms': 122462, 'time_signature': 4}\n",
      "{'danceability': 0.951, 'energy': 0.683, 'key': 0, 'loudness': -8.056, 'mode': 1, 'speechiness': 0.291, 'acousticness': 0.0288, 'instrumentalness': 0, 'liveness': 0.103, 'valence': 0.884, 'tempo': 102.01, 'type': 'audio_features', 'id': '3ZE8fm8nPUq1hJmWqCQ3tE', 'uri': 'spotify:track:3ZE8fm8nPUq1hJmWqCQ3tE', 'track_href': 'https://api.spotify.com/v1/tracks/3ZE8fm8nPUq1hJmWqCQ3tE', 'analysis_url': 'https://api.spotify.com/v1/audio-analysis/3ZE8fm8nPUq1hJmWqCQ3tE', 'duration_ms': 155350, 'time_signature': 4}\n",
      "{'danceability': 0.946, 'energy': 0.405, 'key': 0, 'loudness': -9.483, 'mode': 1, 'speechiness': 0.354, 'acousticness': 0.516, 'instrumentalness': 0, 'liveness': 0.314, 'valence': 0.435, 'tempo': 105.035, 'type': 'audio_features', 'id': '3xJUzyrjsBGjZrjgLlab1j', 'uri': 'spotify:track:3xJUzyrjsBGjZrjgLlab1j', 'track_href': 'https://api.spotify.com/v1/tracks/3xJUzyrjsBGjZrjgLlab1j', 'analysis_url': 'https://api.spotify.com/v1/audio-analysis/3xJUzyrjsBGjZrjgLlab1j', 'duration_ms': 126321, 'time_signature': 4}\n",
      "{'danceability': 0.827, 'energy': 0.517, 'key': 5, 'loudness': -8.916, 'mode': 0, 'speechiness': 0.258, 'acousticness': 0.0194, 'instrumentalness': 1.7e-05, 'liveness': 0.165, 'valence': 0.204, 'tempo': 101.989, 'type': 'audio_features', 'id': '5DNtv0dw2kTcLXLLT4MD9l', 'uri': 'spotify:track:5DNtv0dw2kTcLXLLT4MD9l', 'track_href': 'https://api.spotify.com/v1/tracks/5DNtv0dw2kTcLXLLT4MD9l', 'analysis_url': 'https://api.spotify.com/v1/audio-analysis/5DNtv0dw2kTcLXLLT4MD9l', 'duration_ms': 136471, 'time_signature': 4}\n",
      "{'danceability': 0.901, 'energy': 0.492, 'key': 7, 'loudness': -7.07, 'mode': 1, 'speechiness': 0.462, 'acousticness': 0.0118, 'instrumentalness': 0, 'liveness': 0.142, 'valence': 0.265, 'tempo': 145.935, 'type': 'audio_features', 'id': '7i2QDFQ8d6o7xtzqrr5YSN', 'uri': 'spotify:track:7i2QDFQ8d6o7xtzqrr5YSN', 'track_href': 'https://api.spotify.com/v1/tracks/7i2QDFQ8d6o7xtzqrr5YSN', 'analysis_url': 'https://api.spotify.com/v1/audio-analysis/7i2QDFQ8d6o7xtzqrr5YSN', 'duration_ms': 115122, 'time_signature': 4}\n",
      "{'danceability': 0.771, 'energy': 0.33, 'key': 1, 'loudness': -13.75, 'mode': 1, 'speechiness': 0.871, 'acousticness': 0.0711, 'instrumentalness': 0, 'liveness': 0.111, 'valence': 0.478, 'tempo': 183.827, 'type': 'audio_features', 'id': '2ibclgAlwkX1xD4N6IpAx3', 'uri': 'spotify:track:2ibclgAlwkX1xD4N6IpAx3', 'track_href': 'https://api.spotify.com/v1/tracks/2ibclgAlwkX1xD4N6IpAx3', 'analysis_url': 'https://api.spotify.com/v1/audio-analysis/2ibclgAlwkX1xD4N6IpAx3', 'duration_ms': 100124, 'time_signature': 4}\n",
      "{'danceability': 0.664, 'energy': 0.957, 'key': 10, 'loudness': -8.135, 'mode': 1, 'speechiness': 0.404, 'acousticness': 0.0564, 'instrumentalness': 0, 'liveness': 0.457, 'valence': 0.712, 'tempo': 87.966, 'type': 'audio_features', 'id': '0x8tXEvOtFlb7gUST9Tf6R', 'uri': 'spotify:track:0x8tXEvOtFlb7gUST9Tf6R', 'track_href': 'https://api.spotify.com/v1/tracks/0x8tXEvOtFlb7gUST9Tf6R', 'analysis_url': 'https://api.spotify.com/v1/audio-analysis/0x8tXEvOtFlb7gUST9Tf6R', 'duration_ms': 166296, 'time_signature': 4}\n",
      "{'danceability': 0.516, 'energy': 0.816, 'key': 4, 'loudness': -7.87, 'mode': 0, 'speechiness': 0.518, 'acousticness': 0.166, 'instrumentalness': 0, 'liveness': 0.145, 'valence': 0.356, 'tempo': 119.383, 'type': 'audio_features', 'id': '40rDVEAQdC4JgFuVNs7NM4', 'uri': 'spotify:track:40rDVEAQdC4JgFuVNs7NM4', 'track_href': 'https://api.spotify.com/v1/tracks/40rDVEAQdC4JgFuVNs7NM4', 'analysis_url': 'https://api.spotify.com/v1/audio-analysis/40rDVEAQdC4JgFuVNs7NM4', 'duration_ms': 152392, 'time_signature': 5}\n",
      "{'danceability': 0.68, 'energy': 0.641, 'key': 10, 'loudness': -5.093, 'mode': 0, 'speechiness': 0.213, 'acousticness': 0.0121, 'instrumentalness': 0, 'liveness': 0.142, 'valence': 0.157, 'tempo': 94.98, 'type': 'audio_features', 'id': '62cCw30aDOfi5qqrQgDTwL', 'uri': 'spotify:track:62cCw30aDOfi5qqrQgDTwL', 'track_href': 'https://api.spotify.com/v1/tracks/62cCw30aDOfi5qqrQgDTwL', 'analysis_url': 'https://api.spotify.com/v1/audio-analysis/62cCw30aDOfi5qqrQgDTwL', 'duration_ms': 207536, 'time_signature': 4}\n"
     ]
    }
   ],
   "source": [
    "for i in range(0,len(track_uris)):\n",
    "    print(sp.audio_features(track_uris)[i])"
   ]
  }
 ],
 "metadata": {
  "kernelspec": {
   "display_name": "Python 3 (ipykernel)",
   "language": "python",
   "name": "python3"
  },
  "language_info": {
   "codemirror_mode": {
    "name": "ipython",
    "version": 3
   },
   "file_extension": ".py",
   "mimetype": "text/x-python",
   "name": "python",
   "nbconvert_exporter": "python",
   "pygments_lexer": "ipython3",
   "version": "3.7.11"
  }
 },
 "nbformat": 4,
 "nbformat_minor": 5
}

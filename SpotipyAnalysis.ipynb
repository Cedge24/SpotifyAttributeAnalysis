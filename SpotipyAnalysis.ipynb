{
 "cells": [
  {
   "cell_type": "code",
   "execution_count": 1,
   "id": "76a97454",
   "metadata": {},
   "outputs": [],
   "source": [
    "import spotipy\n",
    "from spotipy.oauth2 import SpotifyClientCredentials"
   ]
  },
  {
   "cell_type": "code",
   "execution_count": null,
   "id": "3d445aca",
   "metadata": {},
   "outputs": [],
   "source": [
    "# ideas\n",
    "# use sp.audio_analysis\n",
    "# check attr with dir(sp)\n",
    "# loop through playlist\n",
    "# get spotify attributes of songs\n",
    "# use song name to look up on genius api\n",
    "# get lyric scores\n",
    "# combine lyric scores and spotify attributes into one nested dict in the form:\n",
    "#     dict['track_name'] = scores_attr_dict['vocab_score'] = x"
   ]
  },
  {
   "cell_type": "code",
   "execution_count": 2,
   "id": "7f09d4cd",
   "metadata": {},
   "outputs": [],
   "source": [
    "# credentials\n",
    "secret =  '615d49815f9d41be85ec2efd2953b189'\n",
    "cid = '7cf1d2780e1a47388c1fbcb66b9cdced'\n",
    "playlist_URI = '1B5qm34J2CTtKx4WG8ujom'"
   ]
  },
  {
   "cell_type": "code",
   "execution_count": 3,
   "id": "3426224e",
   "metadata": {},
   "outputs": [],
   "source": [
    "#Authentication - without user\n",
    "client_credentials_manager = SpotifyClientCredentials(client_id=cid, client_secret=secret)\n",
    "sp = spotipy.Spotify(client_credentials_manager = client_credentials_manager)"
   ]
  },
  {
   "cell_type": "code",
   "execution_count": 4,
   "id": "e32226c7",
   "metadata": {},
   "outputs": [],
   "source": [
    "# get playlist URI from URL\n",
    "playlist_link = \"https://open.spotify.com/playlist/1B5qm34J2CTtKx4WG8ujom?si=d00c307815a34ee9\"\n",
    "playlist_URI = playlist_link.split(\"/\")[-1].split(\"?\")[0]\n",
    "track_uris = [x[\"track\"][\"uri\"] for x in sp.playlist_tracks(playlist_URI)[\"items\"]]"
   ]
  },
  {
   "cell_type": "code",
   "execution_count": 59,
   "id": "97fc1108",
   "metadata": {},
   "outputs": [],
   "source": [
    "anal_dict = {}\n",
    "for uri in track_uris:\n",
    "    # pull data\n",
    "    aud_anal = sp.audio_analysis(uri)['track']\n",
    "    attr = sp.audio_features(uri)[0]\n",
    "    track_info = sp.track(uri)\n",
    "    \n",
    "    # store to nested dict\n",
    "    track_anal = {} \n",
    "    track_anal['uri'] = uri\n",
    "    name = track_info['name']\n",
    "    track_anal['name'] = name\n",
    "    track_anal['album'] = track_info['album']['name']\n",
    "    track_anal['explicit'] = track_info['explicit']\n",
    "    track_anal['popularity'] = track_info['popularity']\n",
    "    \n",
    "    track_anal['duration'] = track_analysis['duration']\n",
    "    track_anal['key'] = track_analysis['key']\n",
    "    track_anal['key_confidence'] = track_analysis['key_confidence']\n",
    "    track_anal['sig'] = track_analysis['time_signature']\n",
    "    track_anal['sig_conf'] = track_analysis['time_signature_confidence']\n",
    "    track_anal['loudness'] = track_analysis['loudness']\n",
    "    track_anal['num_samples'] = track_analysis['num_samples']\n",
    "    \n",
    "    track_anal['danceability'] = attr['danceability']\n",
    "    track_anal['energy'] = attr['energy']\n",
    "    track_anal['key2'] = attr['key']\n",
    "    track_anal['loudness2'] = attr['loudness']\n",
    "    track_anal['speechiness'] = attr['speechiness']\n",
    "    track_anal['acousticness'] = attr['acousticness']\n",
    "    track_anal['instrumentalness'] = attr['instrumentalness']\n",
    "    track_anal['liveness'] = attr['liveness']\n",
    "    track_anal['valence'] = attr['valence']\n",
    "    track_anal['tempo'] = attr['tempo']\n",
    "    track_anal['liveness'] = attr['liveness']\n",
    "    \n",
    "    \n",
    "    # store track_anal dict to outer dict\n",
    "    anal_dict[name] = track_anal\n",
    "    "
   ]
  },
  {
   "cell_type": "code",
   "execution_count": 63,
   "id": "b67bf575",
   "metadata": {},
   "outputs": [
    {
     "name": "stdout",
     "output_type": "stream",
     "text": [
      "{'uri': 'spotify:track:0MXJw9fLjsvUn6maSga5qX', 'name': 'Ya Know', 'album': 'Ya Know', 'explicit': True, 'popularity': 39, 'duration': 125.94358, 'key': 2, 'key_confidence': 0.556, 'sig': 4, 'sig_conf': 0.95, 'loudness': -11.97, 'num_samples': 2777056, 'danceability': 0.833, 'energy': 0.506, 'key2': 8, 'loudness2': -6.033, 'speechiness': 0.245, 'acousticness': 0.0554, 'instrumentalness': 0.000211, 'liveness': 0.286, 'valence': 0.447, 'tempo': 103.938}\n"
     ]
    }
   ],
   "source": [
    "print(anal_dict['Ya Know'])"
   ]
  }
 ],
 "metadata": {
  "kernelspec": {
   "display_name": "Python 3 (ipykernel)",
   "language": "python",
   "name": "python3"
  },
  "language_info": {
   "codemirror_mode": {
    "name": "ipython",
    "version": 3
   },
   "file_extension": ".py",
   "mimetype": "text/x-python",
   "name": "python",
   "nbconvert_exporter": "python",
   "pygments_lexer": "ipython3",
   "version": "3.7.11"
  }
 },
 "nbformat": 4,
 "nbformat_minor": 5
}
